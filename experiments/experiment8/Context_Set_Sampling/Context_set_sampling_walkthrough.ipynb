{
 "cells": [
  {
   "cell_type": "code",
   "execution_count": 7,
   "outputs": [],
   "source": [
    "import os\n",
    "from torchrl_development.envs.sampling.context_space_sampling import sample_context_space\n",
    "from torchrl_development.utils.configuration import make_serializable\n",
    "import json\n",
    "from find_load_threshold import find_load_threshold\n",
    "import numpy as np\n",
    "from torchrl_development.envs.env_generators import make_env, parse_env_json\n",
    "from context_set_stats import plot_lta_histogram, plot_arrival_rate_histogram\n",
    "from datetime import datetime\n",
    "from generate_context_set import sample_contexts_hit_and_run, sample_contexts_dilkins, create_context_set_dict\n",
    "base_name = \"SH3\"\n"
   ],
   "metadata": {
    "collapsed": false,
    "ExecuteTime": {
     "end_time": "2024-03-25T20:53:43.083083200Z",
     "start_time": "2024-03-25T20:53:42.878234100Z"
    }
   },
   "id": "6313e835a46dda84"
  },
  {
   "cell_type": "markdown",
   "source": [
    "# Find Correct Load Factor"
   ],
   "metadata": {
    "collapsed": false
   },
   "id": "7d3b789a7725001e"
  },
  {
   "cell_type": "code",
   "execution_count": null,
   "outputs": [],
   "source": [
    "load_range = np.linspace(1.3, 1.45, 15)\n",
    "env_params = parse_env_json(f\"{base_name}.json\")\n",
    "load_range, final_lta_backlogs, admissible_count =find_load_threshold(env_params, load_range, repeats = 3, seed=0)"
   ],
   "metadata": {
    "collapsed": false,
    "ExecuteTime": {
     "start_time": "2024-03-25T20:07:13.432519Z"
    }
   },
   "id": "f7c6ca76aeafce84"
  },
  {
   "cell_type": "markdown",
   "source": [
    "# Sample from the Context Space"
   ],
   "metadata": {
    "collapsed": false
   },
   "id": "7f8e0c1bf669c9df"
  },
  {
   "cell_type": "code",
   "execution_count": 4,
   "outputs": [
    {
     "name": "stderr",
     "output_type": "stream",
     "text": [
      "\n",
      "  0%|          | 0/50 [00:00<?, ?it/s]\u001B[A\n",
      "Admissible/Sampled environments: 0/0:   0%|          | 0/50 [00:00<?, ?it/s]\u001B[A\n",
      "Admissible/Sampled environments: 0/0:   2%|▏         | 1/50 [00:48<39:57, 48.93s/it]\u001B[A\n",
      "Admissible/Sampled environments: 1/1:   2%|▏         | 1/50 [00:48<39:57, 48.93s/it]\u001B[A\n",
      "Admissible/Sampled environments: 1/1:   4%|▍         | 2/50 [01:37<39:08, 48.93s/it]\u001B[A\n",
      "Admissible/Sampled environments: 2/2:   4%|▍         | 2/50 [01:37<39:08, 48.93s/it]\u001B[A\n",
      "Admissible/Sampled environments: 2/2:   6%|▌         | 3/50 [02:26<38:08, 48.68s/it]\u001B[A\n",
      "Admissible/Sampled environments: 3/3:   6%|▌         | 3/50 [02:26<38:08, 48.68s/it]\u001B[A\n",
      "Admissible/Sampled environments: 3/3:   8%|▊         | 4/50 [03:14<37:20, 48.71s/it]\u001B[A\n",
      "Admissible/Sampled environments: 4/4:   8%|▊         | 4/50 [03:14<37:20, 48.71s/it]\u001B[A\n",
      "Admissible/Sampled environments: 4/4:  10%|█         | 5/50 [04:03<36:23, 48.51s/it]\u001B[A\n",
      "Admissible/Sampled environments: 5/5:  10%|█         | 5/50 [04:03<36:23, 48.51s/it]\u001B[A\n",
      "Admissible/Sampled environments: 5/5:  12%|█▏        | 6/50 [04:51<35:33, 48.49s/it]\u001B[A\n",
      "Admissible/Sampled environments: 6/6:  12%|█▏        | 6/50 [04:51<35:33, 48.49s/it]\u001B[A\n",
      "Admissible/Sampled environments: 6/6:  12%|█▏        | 6/50 [04:52<35:33, 48.49s/it]\u001B[A\n",
      "Admissible/Sampled environments: 6/6:  14%|█▍        | 7/50 [05:39<34:40, 48.38s/it]\u001B[A\n",
      "Admissible/Sampled environments: 7/7:  14%|█▍        | 7/50 [05:39<34:40, 48.38s/it]\u001B[A\n",
      "Admissible/Sampled environments: 7/7:  14%|█▍        | 7/50 [05:40<34:40, 48.38s/it]\u001B[A\n",
      "Admissible/Sampled environments: 7/7:  16%|█▌        | 8/50 [06:29<34:03, 48.66s/it]\u001B[A\n",
      "Admissible/Sampled environments: 8/8:  16%|█▌        | 8/50 [06:29<34:03, 48.66s/it]\u001B[A\n",
      "Admissible/Sampled environments: 8/8:  18%|█▊        | 9/50 [07:18<33:28, 48.98s/it]\u001B[A\n",
      "Admissible/Sampled environments: 9/9:  18%|█▊        | 9/50 [07:18<33:28, 48.98s/it]\u001B[A\n",
      "Admissible/Sampled environments: 9/9:  20%|██        | 10/50 [08:06<32:28, 48.72s/it]\u001B[A\n",
      "Admissible/Sampled environments: 10/10:  20%|██        | 10/50 [08:06<32:28, 48.72s/it]\u001B[A\n",
      "Admissible/Sampled environments: 10/10:  20%|██        | 10/50 [08:07<32:28, 48.72s/it]\u001B[A\n",
      "Admissible/Sampled environments: 10/10:  20%|██        | 10/50 [08:07<32:28, 48.72s/it]\u001B[A\n",
      "Admissible/Sampled environments: 10/10:  22%|██▏       | 11/50 [08:55<31:45, 48.85s/it]\u001B[A\n",
      "Admissible/Sampled environments: 11/11:  22%|██▏       | 11/50 [08:56<31:45, 48.85s/it]\u001B[A\n",
      "Admissible/Sampled environments: 11/11:  24%|██▍       | 12/50 [09:43<30:45, 48.58s/it]\u001B[A\n",
      "Admissible/Sampled environments: 12/12:  24%|██▍       | 12/50 [09:43<30:45, 48.58s/it]\u001B[A\n",
      "Admissible/Sampled environments: 12/12:  24%|██▍       | 12/50 [09:44<30:45, 48.58s/it]\u001B[A\n",
      "Admissible/Sampled environments: 12/12:  24%|██▍       | 12/50 [09:45<30:45, 48.58s/it]\u001B[A\n",
      "Admissible/Sampled environments: 12/12:  24%|██▍       | 12/50 [09:46<30:45, 48.58s/it]\u001B[A\n",
      "Admissible/Sampled environments: 12/12:  26%|██▌       | 13/50 [10:39<31:15, 50.69s/it]\u001B[A\n",
      "Admissible/Sampled environments: 13/13:  26%|██▌       | 13/50 [10:39<31:15, 50.69s/it]\u001B[A\n",
      "Admissible/Sampled environments: 13/13:  28%|██▊       | 14/50 [11:26<29:47, 49.66s/it]\u001B[A\n",
      "Admissible/Sampled environments: 14/14:  28%|██▊       | 14/50 [11:26<29:47, 49.66s/it]\u001B[A\n",
      "Admissible/Sampled environments: 14/14:  28%|██▊       | 14/50 [11:27<29:47, 49.66s/it]\u001B[A\n",
      "Admissible/Sampled environments: 14/14:  28%|██▊       | 14/50 [11:32<29:47, 49.66s/it]\u001B[A\n",
      "Admissible/Sampled environments: 14/14:  28%|██▊       | 14/50 [11:33<29:47, 49.66s/it]\u001B[A\n",
      "Admissible/Sampled environments: 14/14:  28%|██▊       | 14/50 [11:36<29:47, 49.66s/it]\u001B[A\n",
      "Admissible/Sampled environments: 14/14:  30%|███       | 15/50 [12:24<30:23, 52.11s/it]\u001B[A\n",
      "Admissible/Sampled environments: 15/15:  30%|███       | 15/50 [12:24<30:23, 52.11s/it]\u001B[A\n",
      "Admissible/Sampled environments: 15/15:  32%|███▏      | 16/50 [13:12<28:44, 50.71s/it]\u001B[A\n",
      "Admissible/Sampled environments: 16/16:  32%|███▏      | 16/50 [13:12<28:44, 50.71s/it]\u001B[A\n",
      "Admissible/Sampled environments: 16/16:  32%|███▏      | 16/50 [13:13<28:44, 50.71s/it]\u001B[A\n",
      "Admissible/Sampled environments: 16/16:  34%|███▍      | 17/50 [14:00<27:31, 50.03s/it]\u001B[A\n",
      "Admissible/Sampled environments: 17/17:  34%|███▍      | 17/50 [14:00<27:31, 50.03s/it]\u001B[A\n",
      "Admissible/Sampled environments: 17/17:  34%|███▍      | 17/50 [14:02<27:31, 50.03s/it]\u001B[A\n",
      "Admissible/Sampled environments: 17/17:  34%|███▍      | 17/50 [14:04<27:31, 50.03s/it]\u001B[A\n",
      "Admissible/Sampled environments: 17/17:  36%|███▌      | 18/50 [14:52<27:03, 50.72s/it]\u001B[A\n",
      "Admissible/Sampled environments: 18/18:  36%|███▌      | 18/50 [14:52<27:03, 50.72s/it]\u001B[A\n",
      "Admissible/Sampled environments: 18/18:  36%|███▌      | 18/50 [14:53<27:03, 50.72s/it]\u001B[A\n",
      "Admissible/Sampled environments: 18/18:  36%|███▌      | 18/50 [14:54<27:03, 50.72s/it]\u001B[A\n",
      "Admissible/Sampled environments: 18/18:  36%|███▌      | 18/50 [14:55<27:03, 50.72s/it]\u001B[A\n",
      "Admissible/Sampled environments: 18/18:  38%|███▊      | 19/50 [15:44<26:19, 50.95s/it]\u001B[A\n",
      "Admissible/Sampled environments: 19/19:  38%|███▊      | 19/50 [15:44<26:19, 50.95s/it]\u001B[A\n",
      "Admissible/Sampled environments: 19/19:  40%|████      | 20/50 [16:38<25:58, 51.96s/it]\u001B[A\n",
      "Admissible/Sampled environments: 20/20:  40%|████      | 20/50 [16:38<25:58, 51.96s/it]\u001B[A\n",
      "Admissible/Sampled environments: 20/20:  42%|████▏     | 21/50 [17:36<25:57, 53.71s/it]\u001B[A\n",
      "Admissible/Sampled environments: 21/21:  42%|████▏     | 21/50 [17:36<25:57, 53.71s/it]\u001B[A\n",
      "Admissible/Sampled environments: 21/21:  42%|████▏     | 21/50 [17:39<25:57, 53.71s/it]\u001B[A\n",
      "Admissible/Sampled environments: 21/21:  44%|████▍     | 22/50 [18:34<25:41, 55.07s/it]\u001B[A\n",
      "Admissible/Sampled environments: 22/22:  44%|████▍     | 22/50 [18:34<25:41, 55.07s/it]\u001B[A\n",
      "Admissible/Sampled environments: 22/22:  44%|████▍     | 22/50 [18:35<25:41, 55.07s/it]\u001B[A\n",
      "Admissible/Sampled environments: 22/22:  44%|████▍     | 22/50 [18:35<25:41, 55.07s/it]\u001B[A\n",
      "Admissible/Sampled environments: 22/22:  44%|████▍     | 22/50 [18:36<25:41, 55.07s/it]\u001B[A\n",
      "Admissible/Sampled environments: 22/22:  44%|████▍     | 22/50 [18:36<25:41, 55.07s/it]\u001B[A\n",
      "Admissible/Sampled environments: 22/22:  44%|████▍     | 22/50 [18:38<25:41, 55.07s/it]\u001B[A\n",
      "Admissible/Sampled environments: 22/22:  44%|████▍     | 22/50 [18:39<25:41, 55.07s/it]\u001B[A\n",
      "Admissible/Sampled environments: 22/22:  46%|████▌     | 23/50 [19:37<25:47, 57.30s/it]\u001B[A\n",
      "Admissible/Sampled environments: 23/23:  46%|████▌     | 23/50 [19:37<25:47, 57.30s/it]\u001B[A\n",
      "Admissible/Sampled environments: 23/23:  46%|████▌     | 23/50 [19:37<25:47, 57.30s/it]\u001B[A\n",
      "Admissible/Sampled environments: 23/23:  48%|████▊     | 24/50 [20:30<24:15, 55.98s/it]\u001B[A\n",
      "Admissible/Sampled environments: 24/24:  48%|████▊     | 24/50 [20:30<24:15, 55.98s/it]\u001B[A\n",
      "Admissible/Sampled environments: 24/24:  48%|████▊     | 24/50 [20:30<24:15, 55.98s/it]\u001B[A\n",
      "Admissible/Sampled environments: 24/24:  48%|████▊     | 24/50 [20:31<24:15, 55.98s/it]\u001B[A\n",
      "Admissible/Sampled environments: 24/24:  50%|█████     | 25/50 [21:29<23:48, 57.15s/it]\u001B[A\n",
      "Admissible/Sampled environments: 25/25:  50%|█████     | 25/50 [21:29<23:48, 57.15s/it]\u001B[A\n",
      "Admissible/Sampled environments: 25/25:  50%|█████     | 25/50 [21:30<23:48, 57.15s/it]\u001B[A\n",
      "Admissible/Sampled environments: 25/25:  52%|█████▏    | 26/50 [22:19<21:59, 54.98s/it]\u001B[A\n",
      "Admissible/Sampled environments: 26/26:  52%|█████▏    | 26/50 [22:19<21:59, 54.98s/it]\u001B[A\n",
      "Admissible/Sampled environments: 26/26:  52%|█████▏    | 26/50 [22:21<21:59, 54.98s/it]\u001B[A\n",
      "Admissible/Sampled environments: 26/26:  52%|█████▏    | 26/50 [22:30<21:59, 54.98s/it]\u001B[A\n",
      "Admissible/Sampled environments: 26/26:  54%|█████▍    | 27/50 [23:24<22:09, 57.79s/it]\u001B[A\n",
      "Admissible/Sampled environments: 27/27:  54%|█████▍    | 27/50 [23:24<22:09, 57.79s/it]\u001B[A\n",
      "Admissible/Sampled environments: 27/27:  54%|█████▍    | 27/50 [23:24<22:09, 57.79s/it]\u001B[A\n",
      "Admissible/Sampled environments: 27/27:  54%|█████▍    | 27/50 [23:25<22:09, 57.79s/it]\u001B[A\n",
      "Admissible/Sampled environments: 27/27:  54%|█████▍    | 27/50 [23:26<22:09, 57.79s/it]\u001B[A\n",
      "Admissible/Sampled environments: 27/27:  56%|█████▌    | 28/50 [24:25<21:37, 58.96s/it]\u001B[A\n",
      "Admissible/Sampled environments: 28/28:  56%|█████▌    | 28/50 [24:25<21:37, 58.96s/it]\u001B[A\n",
      "Admissible/Sampled environments: 28/28:  58%|█████▊    | 29/50 [25:18<20:00, 57.16s/it]\u001B[A\n",
      "Admissible/Sampled environments: 29/29:  58%|█████▊    | 29/50 [25:18<20:00, 57.16s/it]\u001B[A\n",
      "Admissible/Sampled environments: 29/29:  58%|█████▊    | 29/50 [25:21<20:00, 57.16s/it]\u001B[A\n",
      "Admissible/Sampled environments: 29/29:  60%|██████    | 30/50 [26:12<18:42, 56.13s/it]\u001B[A\n",
      "Admissible/Sampled environments: 30/30:  60%|██████    | 30/50 [26:12<18:42, 56.13s/it]\u001B[A\n",
      "Admissible/Sampled environments: 30/30:  62%|██████▏   | 31/50 [27:02<17:10, 54.22s/it]\u001B[A\n",
      "Admissible/Sampled environments: 31/31:  62%|██████▏   | 31/50 [27:02<17:10, 54.22s/it]\u001B[A\n",
      "Admissible/Sampled environments: 31/31:  62%|██████▏   | 31/50 [27:10<17:10, 54.22s/it]\u001B[A\n",
      "Admissible/Sampled environments: 31/31:  62%|██████▏   | 31/50 [27:17<17:10, 54.22s/it]\u001B[A\n",
      "Admissible/Sampled environments: 31/31:  62%|██████▏   | 31/50 [27:17<17:10, 54.22s/it]\u001B[A\n",
      "Admissible/Sampled environments: 31/31:  62%|██████▏   | 31/50 [27:18<17:10, 54.22s/it]\u001B[A\n",
      "Admissible/Sampled environments: 31/31:  64%|██████▍   | 32/50 [28:07<17:15, 57.53s/it]\u001B[A\n",
      "Admissible/Sampled environments: 32/32:  64%|██████▍   | 32/50 [28:07<17:15, 57.53s/it]\u001B[A\n",
      "Admissible/Sampled environments: 32/32:  66%|██████▌   | 33/50 [28:55<15:30, 54.73s/it]\u001B[A\n",
      "Admissible/Sampled environments: 33/33:  66%|██████▌   | 33/50 [28:55<15:30, 54.73s/it]\u001B[A\n",
      "Admissible/Sampled environments: 33/33:  68%|██████▊   | 34/50 [29:45<14:13, 53.34s/it]\u001B[A\n",
      "Admissible/Sampled environments: 34/34:  68%|██████▊   | 34/50 [29:45<14:13, 53.34s/it]\u001B[A\n",
      "Admissible/Sampled environments: 34/34:  70%|███████   | 35/50 [30:34<12:59, 51.94s/it]\u001B[A\n",
      "Admissible/Sampled environments: 35/35:  70%|███████   | 35/50 [30:34<12:59, 51.94s/it]\u001B[A\n",
      "Admissible/Sampled environments: 35/35:  72%|███████▏  | 36/50 [31:25<12:02, 51.63s/it]\u001B[A\n",
      "Admissible/Sampled environments: 36/36:  72%|███████▏  | 36/50 [31:25<12:02, 51.63s/it]\u001B[A\n",
      "Admissible/Sampled environments: 36/36:  72%|███████▏  | 36/50 [31:26<12:02, 51.63s/it]\u001B[A\n",
      "Admissible/Sampled environments: 36/36:  74%|███████▍  | 37/50 [32:18<11:15, 51.93s/it]\u001B[A\n",
      "Admissible/Sampled environments: 37/37:  74%|███████▍  | 37/50 [32:18<11:15, 51.93s/it]\u001B[A\n",
      "Admissible/Sampled environments: 37/37:  76%|███████▌  | 38/50 [33:09<10:22, 51.88s/it]\u001B[A\n",
      "Admissible/Sampled environments: 38/38:  76%|███████▌  | 38/50 [33:09<10:22, 51.88s/it]\u001B[A\n",
      "Admissible/Sampled environments: 38/38:  76%|███████▌  | 38/50 [33:10<10:22, 51.88s/it]\u001B[A\n",
      "Admissible/Sampled environments: 38/38:  76%|███████▌  | 38/50 [33:12<10:22, 51.88s/it]\u001B[A\n",
      "Admissible/Sampled environments: 38/38:  76%|███████▌  | 38/50 [33:13<10:22, 51.88s/it]\u001B[A\n",
      "Admissible/Sampled environments: 38/38:  76%|███████▌  | 38/50 [33:14<10:22, 51.88s/it]\u001B[A\n",
      "Admissible/Sampled environments: 38/38:  78%|███████▊  | 39/50 [34:08<09:52, 53.91s/it]\u001B[A\n",
      "Admissible/Sampled environments: 39/39:  78%|███████▊  | 39/50 [34:08<09:52, 53.91s/it]\u001B[A\n",
      "Admissible/Sampled environments: 39/39:  80%|████████  | 40/50 [34:59<08:50, 53.10s/it]\u001B[A\n",
      "Admissible/Sampled environments: 40/40:  80%|████████  | 40/50 [34:59<08:50, 53.10s/it]\u001B[A\n",
      "Admissible/Sampled environments: 40/40:  80%|████████  | 40/50 [35:10<08:50, 53.10s/it]\u001B[A\n",
      "Admissible/Sampled environments: 40/40:  80%|████████  | 40/50 [35:12<08:50, 53.10s/it]\u001B[A\n",
      "Admissible/Sampled environments: 40/40:  80%|████████  | 40/50 [35:17<08:50, 53.10s/it]\u001B[A\n",
      "Admissible/Sampled environments: 40/40:  82%|████████▏ | 41/50 [36:21<09:15, 61.70s/it]\u001B[A\n",
      "Admissible/Sampled environments: 41/41:  82%|████████▏ | 41/50 [36:21<09:15, 61.70s/it]\u001B[A\n",
      "Admissible/Sampled environments: 41/41:  84%|████████▍ | 42/50 [37:20<08:08, 61.04s/it]\u001B[A\n",
      "Admissible/Sampled environments: 42/42:  84%|████████▍ | 42/50 [37:20<08:08, 61.04s/it]\u001B[A\n",
      "Admissible/Sampled environments: 42/42:  86%|████████▌ | 43/50 [38:16<06:55, 59.33s/it]\u001B[A\n",
      "Admissible/Sampled environments: 43/43:  86%|████████▌ | 43/50 [38:16<06:55, 59.33s/it]\u001B[A\n",
      "Admissible/Sampled environments: 43/43:  86%|████████▌ | 43/50 [38:17<06:55, 59.33s/it]\u001B[A\n",
      "Admissible/Sampled environments: 43/43:  88%|████████▊ | 44/50 [39:13<05:52, 58.79s/it]\u001B[A\n",
      "Admissible/Sampled environments: 44/44:  88%|████████▊ | 44/50 [39:13<05:52, 58.79s/it]\u001B[A\n",
      "Admissible/Sampled environments: 44/44:  88%|████████▊ | 44/50 [39:14<05:52, 58.79s/it]\u001B[A\n",
      "Admissible/Sampled environments: 44/44:  90%|█████████ | 45/50 [40:05<04:42, 56.53s/it]\u001B[A\n",
      "Admissible/Sampled environments: 45/45:  90%|█████████ | 45/50 [40:05<04:42, 56.53s/it]\u001B[A\n",
      "Admissible/Sampled environments: 45/45:  92%|█████████▏| 46/50 [40:54<03:38, 54.53s/it]\u001B[A\n",
      "Admissible/Sampled environments: 46/46:  92%|█████████▏| 46/50 [40:54<03:38, 54.53s/it]\u001B[A\n",
      "Admissible/Sampled environments: 46/46:  94%|█████████▍| 47/50 [41:45<02:40, 53.39s/it]\u001B[A\n",
      "Admissible/Sampled environments: 47/47:  94%|█████████▍| 47/50 [41:45<02:40, 53.39s/it]\u001B[A\n",
      "Admissible/Sampled environments: 47/47:  96%|█████████▌| 48/50 [42:37<01:45, 52.80s/it]\u001B[A\n",
      "Admissible/Sampled environments: 48/48:  96%|█████████▌| 48/50 [42:37<01:45, 52.80s/it]\u001B[A\n",
      "Admissible/Sampled environments: 48/48:  98%|█████████▊| 49/50 [43:26<00:51, 51.66s/it]\u001B[A\n",
      "Admissible/Sampled environments: 49/49:  98%|█████████▊| 49/50 [43:26<00:51, 51.66s/it]\u001B[A\n",
      "Admissible/Sampled environments: 49/49: 100%|██████████| 50/50 [44:14<00:00, 50.63s/it]\u001B[A\n",
      "Getting non-dominated (key) rates: 100%|██████████| 50/50 [44:14<00:00, 53.09s/it]     \u001B[A"
     ]
    },
    {
     "name": "stdout",
     "output_type": "stream",
     "text": [
      "Number of sampled environments: 50\n",
      "Number of admissible rates: 50\n",
      "Saved multi_env_params to SH3_lf1.38_context_space-nondominated_2.json\n"
     ]
    },
    {
     "name": "stderr",
     "output_type": "stream",
     "text": [
      "\n"
     ]
    }
   ],
   "source": [
    "# Manually Select load factor based on above results\n",
    "load_factor = 1.38\n",
    "\n",
    "# Settings for the sampling loop\n",
    "num_admissible_envs = 50\n",
    "num_rollouts_per_env = 1\n",
    "rollout_steps =  50000\n",
    "keep_dominated = False\n",
    "\n",
    "# File Loading and Saving\n",
    "base_param_file = \"SH3.json\"\n",
    "if keep_dominated:\n",
    "    save_path = f\"{base_param_file.split('.')[0]}_lf{load_factor}_context_space.json\"\n",
    "else:\n",
    "    save_path = f\"{base_param_file.split('.')[0]}_lf{load_factor}_context_space-nondominated_2.json\"\n",
    "# check if save_path exists, if so, then add a number to the end of the file\n",
    "if os.path.exists(save_path):\n",
    "    i = 1\n",
    "    while os.path.exists(f\"{save_path.split('.')[1]}_{i}.json\"):\n",
    "        i += 1\n",
    "    save_path = f\"{save_path.split('.')[1]}_{i}.json\"\n",
    "\n",
    "# Sample the environment parameters\n",
    "context_space_dict = sample_context_space(base_param_file,\n",
    "                                       num_admissible_envs,\n",
    "                                       num_rollouts_per_env,\n",
    "                                       rollout_steps,\n",
    "                                       keep_dominated=False,\n",
    "                                       load_factor=load_factor,  #1.32\n",
    "                                       terminal_backlog=1000,\n",
    "                                       add_borders=True)\n",
    "\n",
    "\n",
    "serial_context_dictionary = make_serializable(context_space_dict)\n",
    "with open(save_path, \"w\") as f:\n",
    "    json.dump(serial_context_dictionary, f)\n",
    "print(f\"Saved multi_env_params to {save_path}\")"
   ],
   "metadata": {
    "collapsed": false,
    "ExecuteTime": {
     "end_time": "2024-03-25T19:57:13.419004100Z",
     "start_time": "2024-03-25T19:12:59.004652300Z"
    }
   },
   "id": "aa802881fba1e1b6"
  },
  {
   "cell_type": "markdown",
   "source": [
    "## Plotting information on the context space vertices"
   ],
   "metadata": {
    "collapsed": false
   },
   "id": "39f37686b099fc2f"
  },
  {
   "cell_type": "code",
   "execution_count": 2,
   "outputs": [],
   "source": [
    "# Load the context space dictionary\n",
    "save_path = \"SH3_lf1.38_context_space-nondominated_2.json\"\n",
    "with open(save_path, \"r\") as f:\n",
    "    context_space_dict = json.load(f)\n"
   ],
   "metadata": {
    "collapsed": false,
    "ExecuteTime": {
     "end_time": "2024-03-25T20:25:57.536285700Z",
     "start_time": "2024-03-25T20:25:57.504209600Z"
    }
   },
   "id": "a065cbd22b6181ef"
  },
  {
   "cell_type": "code",
   "execution_count": 3,
   "outputs": [],
   "source": [
    "# Change settings so plots are generated a pop up window not using Qt\n",
    "import matplotlib.pyplot as plt\n",
    "plt.switch_backend('TkAgg')\n"
   ],
   "metadata": {
    "collapsed": false,
    "ExecuteTime": {
     "end_time": "2024-03-25T20:26:01.022146300Z",
     "start_time": "2024-03-25T20:26:00.952535800Z"
    }
   },
   "id": "1d64a18c3cd8cd5d"
  },
  {
   "cell_type": "code",
   "execution_count": 19,
   "outputs": [],
   "source": [
    "ltas = context_space_dict[\"ltas\"]\n",
    "arrival_rates = np.array([context_space_dict[\"context_dicts\"][str(i)][\"arrival_rates\"] for i in range(context_space_dict[\"num_envs\"])])\n",
    "network_loads = context_space_dict[\"network_loads\"]\n",
    "# plot histogram of ltas\n",
    "plot_lta_histogram(ltas)\n",
    "plot_arrival_rate_histogram(arrival_rates)"
   ],
   "metadata": {
    "collapsed": false,
    "ExecuteTime": {
     "end_time": "2024-03-25T20:08:55.785069900Z",
     "start_time": "2024-03-25T20:08:55.247914700Z"
    }
   },
   "id": "a05b070cf00995bd"
  },
  {
   "cell_type": "markdown",
   "source": [],
   "metadata": {
    "collapsed": false
   },
   "id": "eb5362bfe3be91c2"
  },
  {
   "cell_type": "markdown",
   "source": [
    "# Now create many samples from the context space"
   ],
   "metadata": {
    "collapsed": false
   },
   "id": "b8e92f2f1cb8275a"
  },
  {
   "cell_type": "code",
   "execution_count": 4,
   "outputs": [],
   "source": [
    "num_contexts = 100\n",
    "thin = 1000\n",
    "sampling_method = 'dikins' #'dilkins' or 'hit_and_run'\n",
    "date_time = datetime.now().strftime('%m%d%H%M')\n",
    "\n",
    "# create folder to store all the sampled context parameters and context set dictionary\n",
    "folder_name = f\"{base_name}_sampled_contexts_{num_contexts}_{sampling_method}_{date_time}\"\n",
    "# if folder doesn't exist, create it\n",
    "if not os.path.exists(folder_name):\n",
    "    os.mkdir(folder_name)\n",
    "param_save_file = f\"{base_name}_sampled_context_parameters_{num_contexts}_{sampling_method}_{date_time}.json\"\n",
    "context_set_dict_file_name = f\"{base_name}_context_set_{num_contexts}_{date_time}.json\"\n",
    "if sampling_method == 'hit_and_run':\n",
    "    context_samples = sample_contexts_hit_and_run(context_space_dict, num_contexts, thin = thin)\n",
    "else:\n",
    "    context_samples = sample_contexts_dilkins(context_space_dict, num_contexts)"
   ],
   "metadata": {
    "collapsed": false,
    "ExecuteTime": {
     "end_time": "2024-03-25T20:26:25.878226Z",
     "start_time": "2024-03-25T20:26:16.449635Z"
    }
   },
   "id": "7eeacb04f00f1d38"
  },
  {
   "cell_type": "code",
   "execution_count": 5,
   "outputs": [],
   "source": [
    "## Plot the histogram of the context samples\n",
    "import matplotlib.pyplot as plt\n",
    "# change so it plots to a white background, but I don't have seaborn-white\n",
    "# print(plt.style.available)\n",
    "plot_arrival_rate_histogram(context_samples, title = f\"{sampling_method} Sampling Parameters Histogram\")\n"
   ],
   "metadata": {
    "collapsed": false,
    "ExecuteTime": {
     "end_time": "2024-03-25T20:26:28.006953600Z",
     "start_time": "2024-03-25T20:26:26.958993300Z"
    }
   },
   "id": "31b056c50c3dc79f"
  },
  {
   "cell_type": "markdown",
   "source": [
    "# Create Context Set Dictionary"
   ],
   "metadata": {
    "collapsed": false
   },
   "id": "7c734114831471e4"
  },
  {
   "cell_type": "code",
   "execution_count": 6,
   "outputs": [
    {
     "name": "stderr",
     "output_type": "stream",
     "text": [
      "Computing LTA for sampled contexts: 100%|██████████| 100/100 [19:57<00:00, 11.98s/it]\n"
     ]
    }
   ],
   "source": [
    "make_env_params = {\"observe_lambda\": False,\n",
    "                           \"seed\": None,\n",
    "                           \"device\": \"cpu\",\n",
    "                           \"terminal_backlog\": None,\n",
    "                           \"observation_keys\": [\"Q\", \"Y\"],\n",
    "                           \"inverse_reward\": False,\n",
    "                           \"stat_window_size\": 100000,\n",
    "                           \"terminate_on_convergence\": True,\n",
    "                           \"convergence_threshold\": 0.1}\n",
    "\n",
    "context_set_dict = create_context_set_dict(context_samples,\n",
    "                                                   context_space_dict[\"context_dicts\"][\"0\"][\"env_params\"],\n",
    "                                                   make_env_params)\n",
    "serial_context_set_dictionary = make_serializable(context_set_dict)\n",
    "with open(os.path.join(folder_name, context_set_dict_file_name), \"w\") as f:\n",
    "     json.dump(serial_context_set_dictionary, f)"
   ],
   "metadata": {
    "collapsed": false,
    "ExecuteTime": {
     "end_time": "2024-03-25T20:47:09.579353700Z",
     "start_time": "2024-03-25T20:27:11.941349800Z"
    }
   },
   "id": "5b011ec0162da3bb"
  },
  {
   "cell_type": "markdown",
   "source": [],
   "metadata": {
    "collapsed": false
   },
   "id": "e814e1a75e1eae01"
  },
  {
   "cell_type": "code",
   "execution_count": 11,
   "outputs": [],
   "source": [
    "context_set_dict = json.load(open(\"SH3_sampled_contexts_100_dikins_03251626/SH3_context_set_100_03251626.json\", \"r\"))\n",
    "context_set_dict = json.load(open(\"SH2u_context_set_100_03211523.json\", \"r\"))"
   ],
   "metadata": {
    "collapsed": false,
    "ExecuteTime": {
     "end_time": "2024-03-25T20:58:05.869004300Z",
     "start_time": "2024-03-25T20:58:05.531017200Z"
    }
   },
   "id": "273719d89472db6f"
  },
  {
   "cell_type": "code",
   "execution_count": 12,
   "outputs": [],
   "source": [
    "ltas = context_set_dict[\"ltas\"]\n",
    "arrival_rates = np.array([context_set_dict[\"context_dicts\"][str(i)][\"arrival_rates\"] for i in range(context_set_dict[\"num_envs\"])])\n",
    "network_loads = context_set_dict[\"network_loads\"]\n",
    "# plot histogram of ltas\n",
    "plot_lta_histogram(ltas)\n",
    "plot_arrival_rate_histogram(arrival_rates)"
   ],
   "metadata": {
    "collapsed": false,
    "ExecuteTime": {
     "end_time": "2024-03-25T20:58:09.155526600Z",
     "start_time": "2024-03-25T20:58:07.627802400Z"
    }
   },
   "id": "8439dafc7f294596"
  },
  {
   "cell_type": "code",
   "execution_count": null,
   "outputs": [],
   "source": [],
   "metadata": {
    "collapsed": false
   },
   "id": "3aec8aa2f56a6efc"
  }
 ],
 "metadata": {
  "kernelspec": {
   "display_name": "Python 3",
   "language": "python",
   "name": "python3"
  },
  "language_info": {
   "codemirror_mode": {
    "name": "ipython",
    "version": 2
   },
   "file_extension": ".py",
   "mimetype": "text/x-python",
   "name": "python",
   "nbconvert_exporter": "python",
   "pygments_lexer": "ipython2",
   "version": "2.7.6"
  }
 },
 "nbformat": 4,
 "nbformat_minor": 5
}
